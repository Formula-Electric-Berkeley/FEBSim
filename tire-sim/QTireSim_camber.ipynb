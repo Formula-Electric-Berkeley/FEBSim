{
 "cells": [
  {
   "cell_type": "code",
   "execution_count": 3,
   "id": "d068bfda",
   "metadata": {},
   "outputs": [
    {
     "data": {
      "text/html": [
       "        <script type=\"text/javascript\">\n",
       "        window.PlotlyConfig = {MathJaxConfig: 'local'};\n",
       "        if (window.MathJax && window.MathJax.Hub && window.MathJax.Hub.Config) {window.MathJax.Hub.Config({SVG: {font: \"STIX-Web\"}});}\n",
       "        </script>\n",
       "        <script type=\"module\">import \"https://cdn.plot.ly/plotly-3.0.1.min\"</script>\n",
       "        "
      ]
     },
     "metadata": {},
     "output_type": "display_data"
    }
   ],
   "source": [
    "import sys\n",
    "import os\n",
    "\n",
    "import pandas as pd\n",
    "import numpy as np\n",
    "from scipy.optimize import curve_fit\n",
    "from sklearn.metrics import r2_score\n",
    "import plotly.graph_objects as go # Nick did this, idk if it's standard but it's cute cause then you get go.Figure()\n",
    "from plotly.subplots import make_subplots\n",
    "from plotly.offline import init_notebook_mode, iplot\n",
    "\n",
    "init_notebook_mode(connected=True)"
   ]
  },
  {
   "cell_type": "code",
   "execution_count": 4,
   "id": "2f129151",
   "metadata": {},
   "outputs": [],
   "source": [
    "def get_file_data(file_paths) -> pd.DataFrame:\n",
    "    metric_data = pd.DataFrame()\n",
    "\n",
    "    for path in file_paths:\n",
    "        # Import the data\n",
    "        metric_datum = pd.read_csv(path, skiprows=1, sep='\\t', low_memory=False)\n",
    "\n",
    "        # Rename columns to have value and units, and remove the previous row for units\n",
    "        metric_datum.rename(columns={col: f\"{col} {metric_datum[col][0]}\" for col in metric_datum.columns}, inplace=True)\n",
    "        metric_datum = metric_datum.drop(0)\n",
    "\n",
    "        # Convert all values to floats\n",
    "        metric_datum = metric_datum.apply(pd.to_numeric, errors='coerce')\n",
    "\n",
    "        # Drop any rows with NaN values (if necessary)\n",
    "        metric_datum = metric_datum.dropna()\n",
    "\n",
    "        # Reset index\n",
    "        metric_datum.reset_index(drop=True, inplace=True)\n",
    "\n",
    "        metric_data = pd.concat([metric_data, metric_datum])\n",
    "        print(len(metric_datum))\n",
    "\n",
    "    print(f\"Loaded {len(metric_data)} columns.\")\n",
    "\n",
    "    return metric_data\n",
    "\n",
    "def get_run_data(selected_runs) -> pd.DataFrame:\n",
    "    file_names = [f'./RunData_Cornering_ASCII_SI_Round9/B2356run{rn}.dat' for rn in selected_runs]\n",
    "    return get_file_data(file_names)\n",
    "\n",
    "def get_all_raw_data() -> pd.DataFrame:\n",
    "    data_files = []\n",
    "    \n",
    "    for root, _, files in os.walk(\"RawData_Cornering_ASCII_SI_Round9_Runs1to15 (1)\"):\n",
    "        for filename in files:\n",
    "            data_files.append(os.path.join(root, filename))\n",
    "    \n",
    "    return get_file_data(data_files)\n"
   ]
  },
  {
   "cell_type": "code",
   "execution_count": 34,
   "id": "cc0f9915",
   "metadata": {},
   "outputs": [
    {
     "name": "stdout",
     "output_type": "stream",
     "text": [
      "79851\n",
      "210528\n",
      "220043\n",
      "79849\n",
      "210550\n",
      "220034\n",
      "79861\n",
      "127192\n",
      "101287\n",
      "220017\n",
      "79867\n",
      "210565\n",
      "220001\n",
      "Loaded 2059645 columns.\n"
     ]
    }
   ],
   "source": [
    "SELECTED_RUNS = [4, 5, 6, 8, 9]\n",
    "SELECTED_RUNS = [2] + list(range(4, 26)) + list(range(27, 45)) + [46, 49]\n",
    "\n",
    "# all_data = get_run_data(SELECTED_RUNS)\n",
    "all_data = get_all_raw_data()\n"
   ]
  },
  {
   "cell_type": "code",
   "execution_count": 6,
   "id": "f1fa5f62",
   "metadata": {},
   "outputs": [
    {
     "name": "stdout",
     "output_type": "stream",
     "text": [
      "count    2.059645e+06\n",
      "mean     8.139696e+01\n",
      "std      9.162089e+02\n",
      "min     -3.046500e+03\n",
      "25%     -4.610000e+01\n",
      "50%      1.610000e+00\n",
      "75%      2.722300e+02\n",
      "max      3.001880e+03\n",
      "Name: FY N, dtype: float64\n",
      "\n",
      "count    2.059645e+06\n",
      "mean     1.225114e+00\n",
      "std      1.741185e+00\n",
      "min     -5.017000e+00\n",
      "25%      4.000000e-03\n",
      "50%      1.300000e-02\n",
      "75%      2.005000e+00\n",
      "max      4.031000e+00\n",
      "Name: IA deg, dtype: float64\n"
     ]
    }
   ],
   "source": [
    "print(all_data[\"FY N\"].describe())\n",
    "print()\n",
    "print(all_data[\"IA deg\"].describe())"
   ]
  },
  {
   "cell_type": "code",
   "execution_count": 33,
   "id": "43731bd5",
   "metadata": {},
   "outputs": [
    {
     "name": "stdout",
     "output_type": "stream",
     "text": [
      "<scipy.interpolate._interpnd.LinearNDInterpolator object at 0x0000026BFFB64880>\n"
     ]
    }
   ],
   "source": [
    "from scipy.interpolate import LinearNDInterpolator\n",
    "\n",
    "points = all_data[[\"FZ N\", \"IA deg\"]]\n",
    "values = all_data[\"FY N\"]\n",
    "\n",
    "interp = LinearNDInterpolator(points, values)\n",
    "\n",
    "print(interp)"
   ]
  },
  {
   "cell_type": "code",
   "execution_count": null,
   "id": "6b5cacba",
   "metadata": {},
   "outputs": [
    {
     "name": "stdout",
     "output_type": "stream",
     "text": [
      "[[-1717.27363636 -1699.01727273 -1680.76090909 ...    17.08090909\n",
      "     35.33727273    53.59363636]\n",
      " [-1717.27363636 -1699.01727273 -1680.76090909 ...    17.08090909\n",
      "     35.33727273    53.59363636]\n",
      " [-1717.27363636 -1699.01727273 -1680.76090909 ...    17.08090909\n",
      "     35.33727273    53.59363636]\n",
      " ...\n",
      " [-1717.27363636 -1699.01727273 -1680.76090909 ...    17.08090909\n",
      "     35.33727273    53.59363636]\n",
      " [-1717.27363636 -1699.01727273 -1680.76090909 ...    17.08090909\n",
      "     35.33727273    53.59363636]\n",
      " [-1717.27363636 -1699.01727273 -1680.76090909 ...    17.08090909\n",
      "     35.33727273    53.59363636]] [[-4.92560606 -4.92560606 -4.92560606 ... -4.92560606 -4.92560606\n",
      "  -4.92560606]\n",
      " [-4.83421212 -4.83421212 -4.83421212 ... -4.83421212 -4.83421212\n",
      "  -4.83421212]\n",
      " [-4.74281818 -4.74281818 -4.74281818 ... -4.74281818 -4.74281818\n",
      "  -4.74281818]\n",
      " ...\n",
      " [ 3.75681818  3.75681818  3.75681818 ...  3.75681818  3.75681818\n",
      "   3.75681818]\n",
      " [ 3.84821212  3.84821212  3.84821212 ...  3.84821212  3.84821212\n",
      "   3.84821212]\n",
      " [ 3.93960606  3.93960606  3.93960606 ...  3.93960606  3.93960606\n",
      "   3.93960606]]\n"
     ]
    }
   ],
   "source": [
    "CA_YELLOW = \"#FDB515\"\n",
    "BK_BLUE = \"#002676\"\n",
    "\n",
    "LABEL_COLOR = BK_BLUE\n",
    "TICK_COLOR = CA_YELLOW\n",
    "\n",
    "SCENE_BACKGROUND = \"white\" #\"Greenscreen\", to photoshop out background\n",
    "PLANE_COLOR = \"#242424\"\n",
    "\n",
    "Fz_domain = np.linspace(all_data[\"FZ N\"].min(), all_data[\"FZ N\"].max(), 100, endpoint=True)[1:-1]\n",
    "IA_domain = np.linspace(all_data[\"IA deg\"].min(), all_data[\"IA deg\"].max(), 100, endpoint=True)[1:-1]\n",
    "\n",
    "Fz_grid, IA_grid = np.meshgrid(Fz_domain, IA_domain)\n",
    "\n",
    "print(Fz_grid, IA_grid)\n",
    "\n",
    "Fy_values = interp(Fz_grid, IA_grid)\n",
    "\n",
    "# fig = go.Figure(data=[go.Surface(\n",
    "#         x=Fz_domain,\n",
    "#         y=IA_domain,\n",
    "#         z=Fy_values\n",
    "#     )])\n",
    "\n",
    "# all_data = all_data.sample(10000)\n",
    "reduced_data = all_data[all_data[\"FY N\"] > 0].sample(50000)\n",
    "\n",
    "fig = go.Figure(data = [\n",
    "    go.Scatter3d(\n",
    "        x=reduced_data[\"FZ N\"],\n",
    "        y=reduced_data[\"IA deg\"],\n",
    "        z=reduced_data[\"FY N\"],\n",
    "        mode='markers'\n",
    "    )\n",
    "])\n",
    "\n",
    "fig.update_layout(\n",
    "    scene=dict(\n",
    "        bgcolor=SCENE_BACKGROUND,\n",
    "        xaxis=dict(\n",
    "            gridcolor=TICK_COLOR,\n",
    "            title=dict(text='Load Force (N)', font=dict(color=LABEL_COLOR, size=30)),\n",
    "            tickfont=dict(color=LABEL_COLOR, size=16),\n",
    "            showbackground=True,\n",
    "            backgroundcolor=PLANE_COLOR\n",
    "        ),\n",
    "        yaxis=dict(\n",
    "            gridcolor=TICK_COLOR,\n",
    "            title=dict(text='Camber (deg)', font=dict(color=LABEL_COLOR, size=30)),\n",
    "            tickfont=dict(color=LABEL_COLOR, size=16),\n",
    "            showbackground=True,\n",
    "            backgroundcolor=PLANE_COLOR\n",
    "        ),\n",
    "        zaxis=dict(\n",
    "            gridcolor=TICK_COLOR,\n",
    "            title=dict(text='Lateral Force (N)', font=dict(color=LABEL_COLOR, size=30)),\n",
    "            tickfont=dict(color=LABEL_COLOR, size=16),\n",
    "            showbackground=True,\n",
    "            backgroundcolor=PLANE_COLOR\n",
    "        ),\n",
    "    ),\n",
    "    title=dict(\n",
    "        x=0.5,\n",
    "        xanchor='center',\n",
    "        text='Lateral Force vs Load Force and Camber',\n",
    "        font=dict(\n",
    "            size=36,\n",
    "        )\n",
    "    ),\n",
    ")\n",
    "\n",
    "fig.write_html(\"camber_out/figures/3d_plot.html\")"
   ]
  },
  {
   "cell_type": "code",
   "execution_count": 6,
   "id": "52197ef9",
   "metadata": {},
   "outputs": [],
   "source": [
    "# import plotly.express as px\n",
    "\n",
    "# fig = px.scatter(all_data, x=\"IA deg\", y=\"FY N\", \n",
    "#                  labels=dict(x=\"Camber (deg)\", y=\"Lateral Force (N)\"),\n",
    "#                  title=\"Lateral Force over Camber (All Data)\"\n",
    "# )\n",
    "\n",
    "# fig.update_layout(\n",
    "#     width=800,  # Set the width in pixels\n",
    "#     height=600, # Set the height in pixels\n",
    "# )"
   ]
  }
 ],
 "metadata": {
  "kernelspec": {
   "display_name": ".venv",
   "language": "python",
   "name": "python3"
  },
  "language_info": {
   "codemirror_mode": {
    "name": "ipython",
    "version": 3
   },
   "file_extension": ".py",
   "mimetype": "text/x-python",
   "name": "python",
   "nbconvert_exporter": "python",
   "pygments_lexer": "ipython3",
   "version": "3.10.11"
  }
 },
 "nbformat": 4,
 "nbformat_minor": 5
}
