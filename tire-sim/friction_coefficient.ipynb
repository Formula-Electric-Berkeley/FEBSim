{
 "cells": [
  {
   "cell_type": "code",
   "execution_count": 52,
   "id": "f82b5f73",
   "metadata": {},
   "outputs": [],
   "source": [
    "from datetime import datetime\n",
    "\n",
    "import pandas as pd\n",
    "import numpy as np\n",
    "import plotly.graph_objects as go\n",
    "\n",
    "np.set_printoptions(suppress=True, precision=5) # Disable scientific notation\n",
    "\n",
    "SELECTED_RUNS = [\n",
    "    68, 69, 70, 71, 72, 73\n",
    "]\n",
    "k_y = 1.059952828992417 # see notion for derivation"
   ]
  },
  {
   "cell_type": "code",
   "execution_count": 84,
   "id": "26240eb3",
   "metadata": {},
   "outputs": [],
   "source": [
    "def get_run_data(selected_runs):\n",
    "    metric_data = pd.DataFrame()\n",
    "\n",
    "    for rn in selected_runs:\n",
    "        # Import the data\n",
    "        metric_datum = pd.read_csv(f'./SN5_Round9_DriveBrake/run{rn}.dat')\n",
    "\n",
    "        metric_data = pd.concat([metric_data, metric_datum])\n",
    "        print(f\"Loaded file run{rn}.dat ({len(metric_datum)} rows)\")\n",
    "    \n",
    "    # Rescale forces for tire diam\n",
    "    # metric_data[\"FX (unscaled)\"] = metric_data[\"FX\"]\n",
    "    # metric_data[\"FX\"] = k_y * metric_data[\"FX\"]\n",
    "\n",
    "    return metric_data"
   ]
  },
  {
   "cell_type": "code",
   "execution_count": 110,
   "id": "45f635cc",
   "metadata": {},
   "outputs": [],
   "source": [
    "def format_figure(fig, title, xaxis_title, yaxis_title, ):\n",
    "    fig.update_layout(\n",
    "        title_text=title,\n",
    "        xaxis_title=xaxis_title,\n",
    "        yaxis_title=yaxis_title,\n",
    "        legend=dict(\n",
    "            # x=1.02, y=1,\n",
    "            bgcolor='rgba(255,255,255,0.7)',\n",
    "            bordercolor='black',\n",
    "            borderwidth=1,\n",
    "            title=\"Legend\"\n",
    "        ),\n",
    "        template=\"plotly_white\"\n",
    "    )"
   ]
  },
  {
   "cell_type": "code",
   "execution_count": 71,
   "id": "d59cadc1",
   "metadata": {},
   "outputs": [],
   "source": [
    "def scatter_long_over_normal(data):\n",
    "    data_sample = data.sample(n=10000)\n",
    "    return go.Scatter(\n",
    "        x=data_sample[\"FZ\"], \n",
    "        y=data_sample[\"FX\"],\n",
    "        mode=\"markers\",\n",
    "        marker=dict(\n",
    "            color=data[\"SA\"], \n",
    "            colorscale=\"Viridis\", \n",
    "            showscale=True, \n",
    "            colorbar=dict(title=\"Slip Angle (deg)\")\n",
    "        ),\n",
    "        name=\"Sampled Data\"\n",
    "    )"
   ]
  },
  {
   "cell_type": "code",
   "execution_count": 73,
   "id": "3b2da443-8104-41aa-a01e-4c029d8bc5e1",
   "metadata": {},
   "outputs": [],
   "source": [
    "def scatter_abs_long(data):\n",
    "    data_sample = data.sample(n=10000)\n",
    "    return go.Scatter(\n",
    "        x=data_sample[\"FZ\"], \n",
    "        y=abs(data_sample[\"FX\"]),\n",
    "        mode=\"markers\",\n",
    "        marker=dict(\n",
    "            color=data[\"SA\"], \n",
    "            colorscale=\"Viridis\", \n",
    "            showscale=True, \n",
    "            colorbar=dict(title=\"Slip Angle (deg)\")\n",
    "        ),\n",
    "        name=\"Sampled Data\"\n",
    "    )"
   ]
  },
  {
   "cell_type": "code",
   "execution_count": 112,
   "id": "ab24cf56-661f-4ed4-a316-44dfa2cd81a8",
   "metadata": {},
   "outputs": [],
   "source": [
    "def scatter_abs_long_with_ratio(data):\n",
    "    # data_sample = data.sample(n=10000)\n",
    "    \n",
    "    absolute_long = abs(data[\"FX\"])\n",
    "    absolute_load = abs(data[\"FZ\"])\n",
    "\n",
    "    long_load_ratio = absolute_long / absolute_load\n",
    "    \n",
    "    return go.Scatter(\n",
    "        x=data[\"FZ\"], \n",
    "        y=absolute_long,\n",
    "        mode=\"markers\",\n",
    "        # marker=dict(\n",
    "        #     color=long_load_ratio, \n",
    "        #     colorscale=\"Viridis\", \n",
    "        #     showscale=True, \n",
    "        #     colorbar=dict(title=\"|Fx / Fz|\")\n",
    "        # ),\n",
    "        name=\"All Data\"\n",
    "    )"
   ]
  },
  {
   "cell_type": "code",
   "execution_count": 115,
   "id": "e8cf32e3-99c9-4c5e-9ff0-cfd6433d46a1",
   "metadata": {},
   "outputs": [],
   "source": [
    "def scatter_linear(xrange, slope):\n",
    "    x = np.linspace(xrange[0], xrange[1], 1000)\n",
    "    return go.Scatter(\n",
    "        x=x, \n",
    "        y=slope * x,\n",
    "        name=f\"y = {round(slope, 2)}x\"\n",
    "    )"
   ]
  },
  {
   "cell_type": "code",
   "execution_count": 76,
   "id": "6455d270-6b90-4236-9738-31b06791eed5",
   "metadata": {},
   "outputs": [],
   "source": [
    "def find_friction_coefficient(data):\n",
    "    absolute_long = abs(data[\"FX\"])\n",
    "    absolute_load = abs(data[\"FZ\"])\n",
    "\n",
    "    long_load_ratio = absolute_long / absolute_load\n",
    "\n",
    "    return max(long_load_ratio)"
   ]
  },
  {
   "cell_type": "code",
   "execution_count": 95,
   "id": "58f32731-885d-4a40-9b1f-5549236d3726",
   "metadata": {},
   "outputs": [],
   "source": [
    "def fig_friction_coeff_SA(data):\n",
    "    data_sample = data.sample(1000)\n",
    "    \n",
    "    absolute_long = abs(data_sample[\"FX\"])\n",
    "    absolute_load = abs(data_sample[\"FZ\"])\n",
    "\n",
    "    long_load_ratio = absolute_long / absolute_load\n",
    "    \n",
    "    return go.Scatter(\n",
    "        x=data_sample[\"SA\"], \n",
    "        y=long_load_ratio,\n",
    "        mode=\"markers\",\n",
    "        # marker=dict(\n",
    "        #     color=long_load_ratio, \n",
    "        #     colorscale=\"Viridis\", \n",
    "        #     showscale=True, \n",
    "        #     colorbar=dict(title=\"|Fx / Fz|\")\n",
    "        # ),\n",
    "        name=\"Sampled Data\"\n",
    "    )"
   ]
  },
  {
   "cell_type": "code",
   "execution_count": 85,
   "id": "77a1812d",
   "metadata": {},
   "outputs": [
    {
     "name": "stdout",
     "output_type": "stream",
     "text": [
      "Loaded file run68.dat (19343 rows)\n",
      "Loaded file run69.dat (76297 rows)\n",
      "Loaded file run70.dat (67007 rows)\n",
      "Loaded file run71.dat (19343 rows)\n",
      "Loaded file run72.dat (75860 rows)\n",
      "Loaded file run73.dat (66778 rows)\n"
     ]
    }
   ],
   "source": [
    "all_data = get_run_data(SELECTED_RUNS)"
   ]
  },
  {
   "cell_type": "code",
   "execution_count": 72,
   "id": "fed50714-440e-4159-aec9-3f03406e2eb5",
   "metadata": {},
   "outputs": [],
   "source": [
    "timestamp = datetime.now().strftime(\"%m%d_%H%M%S\")\n",
    "\n",
    "fig = go.Figure()\n",
    "fig.add_trace(scatter_long_over_normal(all_data))\n",
    "format_figure(fig, \"Longitudinal Force over Load Force\", \"Load Force (N)\", \"Longitudinal Force (N)\")\n",
    "\n",
    "fig.write_html(f\"fx_out/figures/longitudinal_over_load_{timestamp}.html\")"
   ]
  },
  {
   "cell_type": "code",
   "execution_count": 75,
   "id": "fa640455-0fd7-4e47-8be0-c669a90cd794",
   "metadata": {},
   "outputs": [],
   "source": [
    "timestamp = datetime.now().strftime(\"%m%d_%H%M%S\")\n",
    "\n",
    "fig = go.Figure()\n",
    "fig.add_trace(scatter_abs_long(all_data))\n",
    "format_figure(fig, \"Absolute Longitudinal Force over Load Force\", \"Load Force (N)\", \"Absolute Longitudinal Force (N)\")\n",
    "\n",
    "fig.write_html(f\"fx_out/figures/abs_long_over_load{timestamp}.html\")"
   ]
  },
  {
   "cell_type": "code",
   "execution_count": 116,
   "id": "b4ee6158-315a-4e54-8785-5c4c3db3ac82",
   "metadata": {},
   "outputs": [],
   "source": [
    "timestamp = datetime.now().strftime(\"%m%d_%H%M%S\")\n",
    "\n",
    "fig = go.Figure()\n",
    "fig.add_trace(scatter_abs_long_with_ratio(all_data[(abs(all_data[\"SA\"]) < 1) & (all_data[\"FZ\"] < -500) & (all_data[\"FZ\"] > -1300)]))\n",
    "fig.add_trace(scatter_linear((-1300, 0), -3.1700277852469303))\n",
    "format_figure(fig, \"Absolute Longitudinal Force over Load Force at 0 slip angle\", \"Load Force (N)\", \"Absolute Longitudinal Force (N)\")\n",
    "\n",
    "fig.update_layout(xaxis=dict(range=[-1300, 0]))\n",
    "\n",
    "fig.write_html(f\"fx_out/figures/abs_long_load_ratios{timestamp}.html\")"
   ]
  },
  {
   "cell_type": "code",
   "execution_count": 96,
   "id": "ba0958d0-8b12-4675-ac75-38498771581c",
   "metadata": {},
   "outputs": [],
   "source": [
    "timestamp = datetime.now().strftime(\"%m%d_%H%M%S\")\n",
    "\n",
    "fig = go.Figure()\n",
    "fig.add_trace(fig_friction_coeff_SA(all_data))\n",
    "format_figure(fig, \"Force Ratio over Slip Angle\", \"Slip Angle (deg)\", \"Absolute Longitudinal Force / Absolute Load Force\")\n",
    "\n",
    "fig.write_html(f\"fx_out/figures/ratio_over_slip_{timestamp}.html\")"
   ]
  },
  {
   "cell_type": "code",
   "execution_count": 86,
   "id": "b7930aa8-3f96-40c7-8365-d4d045a38b7f",
   "metadata": {},
   "outputs": [
    {
     "name": "stdout",
     "output_type": "stream",
     "text": [
      "3.1700277852469303\n"
     ]
    }
   ],
   "source": [
    "find_friction_coefficient(all_data[all_data[\"FZ\"] < -500])"
   ]
  }
 ],
 "metadata": {
  "kernelspec": {
   "display_name": "Python 3 (ipykernel)",
   "language": "python",
   "name": "python3"
  },
  "language_info": {
   "codemirror_mode": {
    "name": "ipython",
    "version": 3
   },
   "file_extension": ".py",
   "mimetype": "text/x-python",
   "name": "python",
   "nbconvert_exporter": "python",
   "pygments_lexer": "ipython3",
   "version": "3.10.11"
  }
 },
 "nbformat": 4,
 "nbformat_minor": 5
}
