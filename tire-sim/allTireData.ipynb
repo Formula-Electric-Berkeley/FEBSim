{
 "cells": [
  {
   "cell_type": "code",
   "execution_count": 35,
   "id": "8a7d7cf6-11ba-452f-946c-2992aa8df814",
   "metadata": {},
   "outputs": [
    {
     "name": "stderr",
     "output_type": "stream",
     "text": [
      "/var/folders/2n/12xxtc511cbd3qt_qc5sy6hm0000gn/T/ipykernel_61268/416834810.py:10: FutureWarning: The 'delim_whitespace' keyword in pd.read_csv is deprecated and will be removed in a future version. Use ``sep='\\s+'`` instead\n",
      "  data = pd.read_csv(file_path, delim_whitespace=True, names=column_names, on_bad_lines='skip')\n",
      "/var/folders/2n/12xxtc511cbd3qt_qc5sy6hm0000gn/T/ipykernel_61268/416834810.py:10: DtypeWarning: Columns (0,1,2,3,4,5,6,7,8,9,10,11,12,13,14,15,16,17,18,19,20) have mixed types. Specify dtype option on import or set low_memory=False.\n",
      "  data = pd.read_csv(file_path, delim_whitespace=True, names=column_names, on_bad_lines='skip')\n",
      "/var/folders/2n/12xxtc511cbd3qt_qc5sy6hm0000gn/T/ipykernel_61268/416834810.py:10: FutureWarning: The 'delim_whitespace' keyword in pd.read_csv is deprecated and will be removed in a future version. Use ``sep='\\s+'`` instead\n",
      "  data = pd.read_csv(file_path, delim_whitespace=True, names=column_names, on_bad_lines='skip')\n",
      "/var/folders/2n/12xxtc511cbd3qt_qc5sy6hm0000gn/T/ipykernel_61268/416834810.py:10: DtypeWarning: Columns (0,1,2,3,4,5,6,7,8,9,10,11,12,13,14,15,16,17,18,19,20) have mixed types. Specify dtype option on import or set low_memory=False.\n",
      "  data = pd.read_csv(file_path, delim_whitespace=True, names=column_names, on_bad_lines='skip')\n",
      "/var/folders/2n/12xxtc511cbd3qt_qc5sy6hm0000gn/T/ipykernel_61268/416834810.py:27: FutureWarning: The behavior of DataFrame concatenation with empty or all-NA entries is deprecated. In a future version, this will no longer exclude empty or all-NA columns when determining the result dtypes. To retain the old behavior, exclude the relevant entries before the concat operation.\n",
      "  all_data = pd.concat([all_data, file_data], ignore_index=True)\n",
      "/var/folders/2n/12xxtc511cbd3qt_qc5sy6hm0000gn/T/ipykernel_61268/416834810.py:10: FutureWarning: The 'delim_whitespace' keyword in pd.read_csv is deprecated and will be removed in a future version. Use ``sep='\\s+'`` instead\n",
      "  data = pd.read_csv(file_path, delim_whitespace=True, names=column_names, on_bad_lines='skip')\n",
      "/var/folders/2n/12xxtc511cbd3qt_qc5sy6hm0000gn/T/ipykernel_61268/416834810.py:10: DtypeWarning: Columns (0,1,2,3,4,5,6,7,8,9,10,11,12,13,14,15,16,17,18,19,20) have mixed types. Specify dtype option on import or set low_memory=False.\n",
      "  data = pd.read_csv(file_path, delim_whitespace=True, names=column_names, on_bad_lines='skip')\n",
      "/var/folders/2n/12xxtc511cbd3qt_qc5sy6hm0000gn/T/ipykernel_61268/416834810.py:10: FutureWarning: The 'delim_whitespace' keyword in pd.read_csv is deprecated and will be removed in a future version. Use ``sep='\\s+'`` instead\n",
      "  data = pd.read_csv(file_path, delim_whitespace=True, names=column_names, on_bad_lines='skip')\n"
     ]
    },
    {
     "name": "stdout",
     "output_type": "stream",
     "text": [
      "Combined data saved to /Users/peytonboone/Desktop/feb/fall2024/combiningTireData/combined_tire_data.dat\n"
     ]
    },
    {
     "name": "stderr",
     "output_type": "stream",
     "text": [
      "/var/folders/2n/12xxtc511cbd3qt_qc5sy6hm0000gn/T/ipykernel_61268/416834810.py:10: DtypeWarning: Columns (0,1,2,3,4,5,6,7,8,9,10,11,12,13,14,15,16,17,18,19,20) have mixed types. Specify dtype option on import or set low_memory=False.\n",
      "  data = pd.read_csv(file_path, delim_whitespace=True, names=column_names, on_bad_lines='skip')\n"
     ]
    }
   ],
   "source": [
    "import pandas as pd\n",
    "\n",
    "min_camber_angle = -1.0000\n",
    "max_camber_angle = -0.5000\n",
    "\n",
    "column_names = ['ET', 'V', 'N', 'SA', 'IA', 'RL', 'RE', 'P', 'FX', 'FY', 'FZ', 'MX', 'MZ',\n",
    "                'NFX', 'NFY', 'RST', 'TSTI', 'TSTC', 'TSTO', 'AMBTMP', 'SR']\n",
    "\n",
    "def read_and_filter_file(file_path):\n",
    "    data = pd.read_csv(file_path, delim_whitespace=True, names=column_names, on_bad_lines='skip')\n",
    "    data['IA'] = pd.to_numeric(data['IA'], errors='coerce')\n",
    "    data = data.dropna(subset=['IA'])\n",
    "    filtered_data = data[(data['IA'] >= min_camber_angle) & (data['IA'] <= max_camber_angle)]\n",
    "    return filtered_data\n",
    "\n",
    "file_paths = [\n",
    "    '/Users/peytonboone/Desktop/feb/fall2024/rawdata/B2356raw2.dat',\n",
    "    '/Users/peytonboone/Desktop/feb/fall2024/rawdata/B2356raw4.dat',\n",
    "    '/Users/peytonboone/Desktop/feb/fall2024/rawdata/B2356raw5.dat',\n",
    "    '/Users/peytonboone/Desktop/feb/fall2024/rawdata/B2356raw6.dat',\n",
    "]\n",
    "\n",
    "# Read and filter all files\n",
    "all_data = pd.DataFrame(columns=column_names)\n",
    "for file_path in file_paths:\n",
    "    file_data = read_and_filter_file(file_path)\n",
    "    all_data = pd.concat([all_data, file_data], ignore_index=True) \n",
    "\n",
    "# Save combined data to a .dat file\n",
    "combined_file_path = '/Users/peytonboone/Desktop/feb/fall2024/combiningTireData/combined_tire_data.dat'\n",
    "all_data.to_csv(combined_file_path, sep='\\t', index=False)\n",
    "\n",
    "print(f\"Combined data saved to {combined_file_path}\")"
   ]
  }
 ],
 "metadata": {
  "kernelspec": {
   "display_name": "Python 3 (ipykernel)",
   "language": "python",
   "name": "python3"
  },
  "language_info": {
   "codemirror_mode": {
    "name": "ipython",
    "version": 3
   },
   "file_extension": ".py",
   "mimetype": "text/x-python",
   "name": "python",
   "nbconvert_exporter": "python",
   "pygments_lexer": "ipython3",
   "version": "3.11.3"
  }
 },
 "nbformat": 4,
 "nbformat_minor": 5
}
