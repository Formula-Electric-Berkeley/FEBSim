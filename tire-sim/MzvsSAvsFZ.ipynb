{
 "cells": [
  {
   "cell_type": "code",
   "execution_count": 15,
   "id": "347ebca3-0a93-413e-950f-c57a653ee601",
   "metadata": {},
   "outputs": [],
   "source": [
    "import os\n",
    "import pandas as pd\n",
    "import numpy as np\n",
    "from scipy.interpolate import griddata\n",
    "import plotly.graph_objects as go\n",
    "import plotly.io as pio\n",
    "\n",
    "# Define the correct column names\n",
    "column_names = ['ET', 'V', 'N', 'SA', 'IA', 'RL', 'RE', 'P', 'FX', 'FY', 'FZ', 'MX', 'MZ',\n",
    "                'NFX', 'NFY', 'RST', 'TSTI', 'TSTC', 'TSTO', 'AMBTMP', 'SR']\n",
    "\n",
    "# Function to set the top row as header and reset index\n",
    "def set_top_row_as_header(df):\n",
    "    df.columns = df.iloc[0].values\n",
    "    df = df.drop(df.index[0])\n",
    "    df = df.reset_index(drop=True)\n",
    "    return df\n",
    "\n",
    "# Try reading the file with flexible error handling\n",
    "def load_and_prepare_dataframe(file_path):\n",
    "    try:\n",
    "        # Read with flexible handling of bad lines (skip rows with mismatched columns)\n",
    "        df = pd.read_csv(file_path, delim_whitespace=True, names=column_names, on_bad_lines='skip')\n",
    "        print(f\"Successfully loaded {file_path}\")\n",
    "    except Exception as e:\n",
    "        print(f\"Failed to load {file_path}. Error: {e}\")\n",
    "        return None\n",
    "\n",
    "    # Drop the first two rows and reset index\n",
    "    df = df.iloc[2:].reset_index(drop=True)\n",
    "\n",
    "    # Drop dataframes with zero length\n",
    "    if len(df) > 0:\n",
    "        return df\n",
    "    else:\n",
    "        print(f\"File {file_path} has zero length after preprocessing.\")\n",
    "        return None\n",
    "\n",
    "# Function to process data and generate 3D interactive plots for each file path\n",
    "def process_and_save_3d_plotly(file_paths, output_directory):\n",
    "    for file_path in file_paths:\n",
    "        # Load and prepare the dataframe\n",
    "        df = load_and_prepare_dataframe(file_path)\n",
    "        if df is None:\n",
    "            continue\n",
    "\n",
    "        print(f\"Processing file: {file_path}\")\n",
    "\n",
    "        # Convert columns to numeric and clean data\n",
    "        df['MZ'] = pd.to_numeric(df['MZ'], errors='coerce')\n",
    "        df['SA'] = pd.to_numeric(df['SA'], errors='coerce')\n",
    "        df['FZ'] = pd.to_numeric(df['FZ'], errors='coerce')\n",
    "        df.replace([np.inf, -np.inf], np.nan, inplace=True)\n",
    "        df.dropna(subset=['MZ', 'SA', 'FZ'], inplace=True)\n",
    "\n",
    "        # Interpolation grid setup\n",
    "        grid_x, grid_y = np.meshgrid(\n",
    "            np.linspace(df['SA'].min(), df['SA'].max(), 50),\n",
    "            np.linspace(df['FZ'].min(), df['FZ'].max(), 50)\n",
    "        )\n",
    "        grid_z = griddata((df['SA'], df['FZ']), df['MZ'], (grid_x, grid_y), method='cubic')\n",
    "\n",
    "        # Create the interactive 3D surface plot using Plotly\n",
    "        fig = go.Figure(data=[go.Surface(z=grid_z, x=grid_x, y=grid_y, colorscale='Viridis')])\n",
    "\n",
    "        # Set plot titles and labels\n",
    "        fig.update_layout(\n",
    "            title=f'Slip Angle vs. Vertical Load vs. MZ for {os.path.basename(file_path)}',\n",
    "            scene=dict(\n",
    "                xaxis_title='Slip Angle (deg)',\n",
    "                yaxis_title='Vertical Load (N)',\n",
    "                zaxis_title='Alignment Torque (Nm)'\n",
    "            ),\n",
    "            autosize=True,\n",
    "            width=800,\n",
    "            height=800,\n",
    "            margin=dict(l=65, r=50, b=65, t=90)\n",
    "        )\n",
    "\n",
    "        # Save the interactive plot as an HTML file\n",
    "        html_file_path = f\"{output_directory}/{os.path.basename(file_path).replace('.dat', '')}_mz.html\"\n",
    "        pio.write_html(fig, file=html_file_path, auto_open=False)\n",
    "\n",
    "        print(f\"Saved 3D plot to: {html_file_path}\")\n"
   ]
  },
  {
   "cell_type": "code",
   "execution_count": 16,
   "id": "cc01a258-cf72-42da-955d-9cf9ac91e245",
   "metadata": {},
   "outputs": [
    {
     "name": "stderr",
     "output_type": "stream",
     "text": [
      "/var/folders/2n/12xxtc511cbd3qt_qc5sy6hm0000gn/T/ipykernel_11930/2243151223.py:23: FutureWarning:\n",
      "\n",
      "The 'delim_whitespace' keyword in pd.read_csv is deprecated and will be removed in a future version. Use ``sep='\\s+'`` instead\n",
      "\n",
      "/var/folders/2n/12xxtc511cbd3qt_qc5sy6hm0000gn/T/ipykernel_11930/2243151223.py:23: DtypeWarning:\n",
      "\n",
      "Columns (0,1,2,3,4,5,6,7,8,9,10,11,12,13,14,15,16,17,18,19,20) have mixed types. Specify dtype option on import or set low_memory=False.\n",
      "\n"
     ]
    },
    {
     "name": "stdout",
     "output_type": "stream",
     "text": [
      "Successfully loaded /Users/peytonboone/Desktop/feb/fall2024/rawdata/B2356raw11.dat\n",
      "Processing file: /Users/peytonboone/Desktop/feb/fall2024/rawdata/B2356raw11.dat\n",
      "Saved 3D plot to: /Users/peytonboone/Desktop/feb/fall2024/MzvsSAvsFZ/B2356raw11_mz.html\n"
     ]
    },
    {
     "name": "stderr",
     "output_type": "stream",
     "text": [
      "/var/folders/2n/12xxtc511cbd3qt_qc5sy6hm0000gn/T/ipykernel_11930/2243151223.py:23: FutureWarning:\n",
      "\n",
      "The 'delim_whitespace' keyword in pd.read_csv is deprecated and will be removed in a future version. Use ``sep='\\s+'`` instead\n",
      "\n",
      "/var/folders/2n/12xxtc511cbd3qt_qc5sy6hm0000gn/T/ipykernel_11930/2243151223.py:23: DtypeWarning:\n",
      "\n",
      "Columns (0,1,2,3,4,5,6,7,8,9,10,11,12,13,14,15,16,17,18,19,20) have mixed types. Specify dtype option on import or set low_memory=False.\n",
      "\n"
     ]
    },
    {
     "name": "stdout",
     "output_type": "stream",
     "text": [
      "Successfully loaded /Users/peytonboone/Desktop/feb/fall2024/rawdata/B2356raw15.dat\n",
      "Processing file: /Users/peytonboone/Desktop/feb/fall2024/rawdata/B2356raw15.dat\n",
      "Saved 3D plot to: /Users/peytonboone/Desktop/feb/fall2024/MzvsSAvsFZ/B2356raw15_mz.html\n",
      "Successfully loaded /Users/peytonboone/Desktop/feb/fall2024/rawdata/B2356raw4.dat\n"
     ]
    },
    {
     "name": "stderr",
     "output_type": "stream",
     "text": [
      "/var/folders/2n/12xxtc511cbd3qt_qc5sy6hm0000gn/T/ipykernel_11930/2243151223.py:23: FutureWarning:\n",
      "\n",
      "The 'delim_whitespace' keyword in pd.read_csv is deprecated and will be removed in a future version. Use ``sep='\\s+'`` instead\n",
      "\n",
      "/var/folders/2n/12xxtc511cbd3qt_qc5sy6hm0000gn/T/ipykernel_11930/2243151223.py:23: DtypeWarning:\n",
      "\n",
      "Columns (0,1,2,3,4,5,6,7,8,9,10,11,12,13,14,15,16,17,18,19,20) have mixed types. Specify dtype option on import or set low_memory=False.\n",
      "\n"
     ]
    },
    {
     "name": "stdout",
     "output_type": "stream",
     "text": [
      "Processing file: /Users/peytonboone/Desktop/feb/fall2024/rawdata/B2356raw4.dat\n",
      "Saved 3D plot to: /Users/peytonboone/Desktop/feb/fall2024/MzvsSAvsFZ/B2356raw4_mz.html\n"
     ]
    }
   ],
   "source": [
    "# Example usage on a list of file paths\n",
    "file_paths = [\n",
    "    '/Users/peytonboone/Desktop/feb/fall2024/rawdata/B2356raw11.dat',\n",
    "    '/Users/peytonboone/Desktop/feb/fall2024/rawdata/B2356raw15.dat',\n",
    "    '/Users/peytonboone/Desktop/feb/fall2024/rawdata/B2356raw4.dat',\n",
    "]\n",
    "\n",
    "# Specify the output directory for saving the HTML files\n",
    "output_directory = \"/Users/peytonboone/Desktop/feb/fall2024/MzvsSAvsFZ\"\n",
    "\n",
    "# Call the function to process and save 3D graphs as HTML files using Plotly\n",
    "process_and_save_3d_plotly(file_paths, output_directory)"
   ]
  },
  {
   "cell_type": "code",
   "execution_count": null,
   "id": "fb36cf92-25ef-4c20-b7a2-07d985f9d493",
   "metadata": {},
   "outputs": [],
   "source": []
  }
 ],
 "metadata": {
  "kernelspec": {
   "display_name": "Python 3 (ipykernel)",
   "language": "python",
   "name": "python3"
  },
  "language_info": {
   "codemirror_mode": {
    "name": "ipython",
    "version": 3
   },
   "file_extension": ".py",
   "mimetype": "text/x-python",
   "name": "python",
   "nbconvert_exporter": "python",
   "pygments_lexer": "ipython3",
   "version": "3.11.3"
  }
 },
 "nbformat": 4,
 "nbformat_minor": 5
}
