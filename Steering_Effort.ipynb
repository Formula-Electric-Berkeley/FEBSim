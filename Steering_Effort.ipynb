{
  "nbformat": 4,
  "nbformat_minor": 0,
  "metadata": {
    "colab": {
      "provenance": [],
      "authorship_tag": "ABX9TyPQzMoVBCRKJPPDAcfyOvn2",
      "include_colab_link": true
    },
    "kernelspec": {
      "name": "python3",
      "display_name": "Python 3"
    },
    "language_info": {
      "name": "python"
    }
  },
  "cells": [
    {
      "cell_type": "markdown",
      "metadata": {
        "id": "view-in-github",
        "colab_type": "text"
      },
      "source": [
        "<a href=\"https://colab.research.google.com/github/Formula-Electric-Berkeley/FEBSim/blob/main/Steering_Effort.ipynb\" target=\"_parent\"><img src=\"https://colab.research.google.com/assets/colab-badge.svg\" alt=\"Open In Colab\"/></a>"
      ]
    },
    {
      "cell_type": "code",
      "execution_count": null,
      "metadata": {
        "id": "bYZoMTRqPxJH"
      },
      "outputs": [],
      "source": [
        "import matplotlib.pyplot as plt\n",
        "import pandas as pd\n",
        "import numpy as np\n",
        "\n",
        "# Load and clean the data\n",
        "data_path = 'B1320run52.csv'\n",
        "data = pd.read_csv(data_path)\n",
        "data = data.drop(data.index[0])\n",
        "data['FY'] = pd.to_numeric(data['FY'], errors='coerce')\n",
        "data['SA'] = pd.to_numeric(data['SA'], errors='coerce')\n",
        "data['FZ'] = pd.to_numeric(data['FZ'], errors='coerce')\n",
        "data['IA'] = pd.to_numeric(data['IA'], errors='coerce')\n",
        "data['V'] = pd.to_numeric(data['V'], errors='coerce')\n",
        "data['MZ'] = pd.to_numeric(data['MZ'], errors='coerce') # Assuming MZ is also a column\n",
        "data.replace([np.inf, -np.inf], np.nan, inplace=True)\n",
        "data.dropna(subset=['FY', 'SA', 'FZ', 'IA', 'V', 'MZ'], inplace=True)\n",
        "\n",
        "# Constants\n",
        "mechanical_trail = 0.006\n",
        "upright_steering_arm = 0.05\n",
        "steering_rack_trail = 0.01\n",
        "rack_ratio = 3.36\n",
        "\n",
        "# Define bins with specific ranges\n",
        "bins = [\n",
        "    {'name': 'Outer', 'fz_range': (-1200, -1000), 'ia_range': (0.9, 1.1), 'v_range': (0, 42)},\n",
        "    {'name': 'Inner', 'fz_range': (-300, -100), 'ia_range': (2.9, 3.1), 'v_range': (0, 42)}\n",
        "]\n",
        "\n",
        "# Prepare to plot\n",
        "fig, ax1 = plt.subplots(figsize=(12, 6))\n",
        "\n",
        "# Custom labels for the curves\n",
        "custom_labels = {\n",
        "    'Outer': 'Outer Normal Load (1100 N and 1.0 degree camber)',\n",
        "    'Inner': 'Inner Normal Load (200 N and 3.0 degree camber)'\n",
        "}\n",
        "\n",
        "# Process each bin\n",
        "combined_steering_torque = None\n",
        "\n",
        "for bin_info in bins:\n",
        "    name = bin_info['name']\n",
        "    filtered_data = data[\n",
        "        (data['FZ'] >= bin_info['fz_range'][0]) & (data['FZ'] <= bin_info['fz_range'][1]) &\n",
        "        (data['IA'] >= bin_info['ia_range'][0]) & (data['IA'] <= bin_info['ia_range'][1]) &\n",
        "        (data['V'] >= bin_info['v_range'][0]) & (data['V'] <= bin_info['v_range'][1])\n",
        "    ].copy()\n",
        "\n",
        "    if not filtered_data.empty:\n",
        "        # Calculate Steering Torque\n",
        "        filtered_data[f'SteeringTorque{name}'] = (filtered_data['MZ'] + (filtered_data['FY'] * mechanical_trail)) / upright_steering_arm * (steering_rack_trail / rack_ratio)\n",
        "\n",
        "        # Plot MZ vs Slip Angle for this bin\n",
        "        ax1.plot(filtered_data['SA'], filtered_data['MZ'], label=f'MZ - {custom_labels[name]}')\n",
        "\n",
        "        if combined_steering_torque is None:\n",
        "            combined_steering_torque = filtered_data[['SA', f'SteeringTorque{name}']].copy()\n",
        "            combined_steering_torque.rename(columns={f'SteeringTorque{name}': 'CombinedSteeringTorque'}, inplace=True)\n",
        "        else:\n",
        "            combined_steering_torque = combined_steering_torque.merge(filtered_data[['SA', f'SteeringTorque{name}']], on='SA', how='inner')\n",
        "            combined_steering_torque['CombinedSteeringTorque'] += combined_steering_torque[f'SteeringTorque{name}']\n",
        "\n",
        "# Plot combined steering torque\n",
        "if combined_steering_torque is not None:\n",
        "    ax1.plot(combined_steering_torque['SA'], combined_steering_torque['CombinedSteeringTorque'], color='green', label='Combined Steering Torque')\n",
        "\n",
        "# Set axis titles and limits\n",
        "ax1.set_title('Steering Torque and MZ vs Slip Angle')\n",
        "ax1.set_xlabel('Slip Angle (deg)')\n",
        "ax1.set_ylabel('MZ and Steering Torque (Nm)')\n",
        "ax1.set_ylim(-100, 100)\n",
        "\n",
        "ax2 = ax1.twinx()\n",
        "ax2.set_ylabel('Lateral Force (N)')\n",
        "ax2.set_ylim(-2000, 2000)\n",
        "\n",
        "# Display the legends\n",
        "ax1.legend(loc='upper left')\n",
        "ax2.legend(loc='upper right')\n",
        "\n",
        "# Show the plot\n",
        "plt.show()\n"
      ]
    }
  ]
}