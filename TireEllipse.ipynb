{
  "nbformat": 4,
  "nbformat_minor": 0,
  "metadata": {
    "colab": {
      "provenance": [],
      "authorship_tag": "ABX9TyNK8osj2Vl4KDe0krW8K0y9",
      "include_colab_link": true
    },
    "kernelspec": {
      "name": "python3",
      "display_name": "Python 3"
    },
    "language_info": {
      "name": "python"
    }
  },
  "cells": [
    {
      "cell_type": "markdown",
      "metadata": {
        "id": "view-in-github",
        "colab_type": "text"
      },
      "source": [
        "<a href=\"https://colab.research.google.com/github/Formula-Electric-Berkeley/FEBSim/blob/main/TireEllipse.ipynb\" target=\"_parent\"><img src=\"https://colab.research.google.com/assets/colab-badge.svg\" alt=\"Open In Colab\"/></a>"
      ]
    },
    {
      "cell_type": "code",
      "execution_count": null,
      "metadata": {
        "id": "DB2d4lpZgF8P"
      },
      "outputs": [],
      "source": [
        "import pandas as pd\n",
        "import plotly.express as px\n",
        "# Load the cleaned data\n",
        "# Define the path to the CSV file\n",
        "data_path = 'B1320run125.csv'\n",
        "\n",
        "# Load the data, skipping the first row which contains units\n",
        "data = pd.read_csv(data_path, skiprows=0)\n",
        "data = data.drop(data.index[0])\n",
        "\n",
        "# Assuming 'FY' is lateral force, 'FX' is longitudinal force, 'SA' is slip angle, and 'FZ' is vertical load\n",
        "# Convert relevant columns to float\n",
        "data['FY'] = pd.to_numeric(data['FY'], errors='coerce')\n",
        "data['FX'] = pd.to_numeric(data['FX'], errors='coerce')\n",
        "data['SA'] = pd.to_numeric(data['SA'], errors='coerce')\n",
        "data['FZ'] = pd.to_numeric(data['FZ'], errors='coerce')\n",
        "\n",
        "# Define a specific vertical load bin range\n",
        "vertical_load_bin = (-800, -400)\n",
        "\n",
        "# Filter data for the specified vertical load bin\n",
        "data_bin = data[(data['FZ'] >= vertical_load_bin[0]) & (data['FZ'] < vertical_load_bin[1])]\n",
        "\n",
        "# Drop rows with NaN values that resulted from coercion\n",
        "data_bin_cleaned = data_bin.dropna(subset=['FY', 'FX', 'SA'])\n",
        "\n",
        "# Create a scatter plot with Plotly for the specified vertical load bin\n",
        "fig = px.scatter(data_bin_cleaned, x='FY', y='FX', color='SA',\n",
        "                 labels={'FY': 'Lateral Force (FY) [N]', 'FX': 'Longitudinal Force (FX) [N]', 'SA': 'Slip Angle (SA)'},\n",
        "                 title=f'Tire Forces at Various Slip Angles for Vertical Load Bin {vertical_load_bin}')\n",
        "\n",
        "# Update layout for a better view\n",
        "fig.update_layout(autosize=False, width=800, height=600)\n",
        "\n",
        "# Show the figure\n",
        "fig.show()\n"
      ]
    }
  ]
}